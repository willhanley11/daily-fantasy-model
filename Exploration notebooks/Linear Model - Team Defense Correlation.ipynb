{
 "cells": [
  {
   "cell_type": "code",
   "execution_count": 122,
   "metadata": {},
   "outputs": [],
   "source": [
    "import numpy as np\n",
    "import pandas as pd\n",
    "import matplotlib.pyplot as plt\n",
    "\n",
    "from sklearn.linear_model import LinearRegression\n",
    "from sklearn.model_selection import train_test_split"
   ]
  },
  {
   "cell_type": "code",
   "execution_count": 132,
   "metadata": {},
   "outputs": [
    {
     "data": {
      "text/plain": [
       "(92293, 35)"
      ]
     },
     "execution_count": 132,
     "metadata": {},
     "output_type": "execute_result"
    }
   ],
   "source": [
    "df = pd.read_csv('data/clean_combined_games_defense.csv')\n",
    "df.shape"
   ]
  },
  {
   "cell_type": "code",
   "execution_count": 133,
   "metadata": {},
   "outputs": [
    {
     "data": {
      "text/html": [
       "<div>\n",
       "<style scoped>\n",
       "    .dataframe tbody tr th:only-of-type {\n",
       "        vertical-align: middle;\n",
       "    }\n",
       "\n",
       "    .dataframe tbody tr th {\n",
       "        vertical-align: top;\n",
       "    }\n",
       "\n",
       "    .dataframe thead th {\n",
       "        text-align: right;\n",
       "    }\n",
       "</style>\n",
       "<table border=\"1\" class=\"dataframe\">\n",
       "  <thead>\n",
       "    <tr style=\"text-align: right;\">\n",
       "      <th></th>\n",
       "      <th>Date</th>\n",
       "      <th>Season</th>\n",
       "      <th>Player</th>\n",
       "      <th>Team</th>\n",
       "      <th>Match-up</th>\n",
       "      <th>Home/Away</th>\n",
       "      <th>W/L</th>\n",
       "      <th>Min</th>\n",
       "      <th>Pts</th>\n",
       "      <th>FGM</th>\n",
       "      <th>FGA</th>\n",
       "      <th>3PM</th>\n",
       "      <th>3PA</th>\n",
       "      <th>FTM</th>\n",
       "      <th>FTA</th>\n",
       "      <th>OREB</th>\n",
       "      <th>DREB</th>\n",
       "      <th>REB</th>\n",
       "      <th>AST</th>\n",
       "      <th>STL</th>\n",
       "      <th>BLK</th>\n",
       "      <th>TOV</th>\n",
       "      <th>PF</th>\n",
       "      <th>+/-</th>\n",
       "      <th>Dub/Dub</th>\n",
       "      <th>Trip/Dub</th>\n",
       "      <th>OPP_DEF_RTG</th>\n",
       "      <th>OPP_DREB%</th>\n",
       "      <th>OPP_STL</th>\n",
       "      <th>OPP_BLK</th>\n",
       "      <th>OPP_PTS_off_TOV</th>\n",
       "      <th>OPP_PTS_2nd_CHANCE</th>\n",
       "      <th>OPP_PTS_FB</th>\n",
       "      <th>OPP_PTS_PAINT</th>\n",
       "      <th>DK_SCORE</th>\n",
       "    </tr>\n",
       "    <tr>\n",
       "      <th>Date</th>\n",
       "      <th></th>\n",
       "      <th></th>\n",
       "      <th></th>\n",
       "      <th></th>\n",
       "      <th></th>\n",
       "      <th></th>\n",
       "      <th></th>\n",
       "      <th></th>\n",
       "      <th></th>\n",
       "      <th></th>\n",
       "      <th></th>\n",
       "      <th></th>\n",
       "      <th></th>\n",
       "      <th></th>\n",
       "      <th></th>\n",
       "      <th></th>\n",
       "      <th></th>\n",
       "      <th></th>\n",
       "      <th></th>\n",
       "      <th></th>\n",
       "      <th></th>\n",
       "      <th></th>\n",
       "      <th></th>\n",
       "      <th></th>\n",
       "      <th></th>\n",
       "      <th></th>\n",
       "      <th></th>\n",
       "      <th></th>\n",
       "      <th></th>\n",
       "      <th></th>\n",
       "      <th></th>\n",
       "      <th></th>\n",
       "      <th></th>\n",
       "      <th></th>\n",
       "      <th></th>\n",
       "    </tr>\n",
       "  </thead>\n",
       "  <tbody>\n",
       "    <tr>\n",
       "      <th>2018-10-17</th>\n",
       "      <td>2018-10-17</td>\n",
       "      <td>2018-19</td>\n",
       "      <td>Luka Doncic</td>\n",
       "      <td>DAL</td>\n",
       "      <td>Phoenix Suns</td>\n",
       "      <td>1</td>\n",
       "      <td>0</td>\n",
       "      <td>32</td>\n",
       "      <td>10</td>\n",
       "      <td>5</td>\n",
       "      <td>16</td>\n",
       "      <td>0</td>\n",
       "      <td>5</td>\n",
       "      <td>0</td>\n",
       "      <td>2</td>\n",
       "      <td>2</td>\n",
       "      <td>6</td>\n",
       "      <td>8</td>\n",
       "      <td>4</td>\n",
       "      <td>0</td>\n",
       "      <td>0</td>\n",
       "      <td>4</td>\n",
       "      <td>3</td>\n",
       "      <td>-18</td>\n",
       "      <td>0</td>\n",
       "      <td>0</td>\n",
       "      <td>114.2</td>\n",
       "      <td>68.3</td>\n",
       "      <td>9.0</td>\n",
       "      <td>5.1</td>\n",
       "      <td>19.5</td>\n",
       "      <td>15.5</td>\n",
       "      <td>15.8</td>\n",
       "      <td>53.0</td>\n",
       "      <td>24.00</td>\n",
       "    </tr>\n",
       "    <tr>\n",
       "      <th>2018-10-20</th>\n",
       "      <td>2018-10-20</td>\n",
       "      <td>2018-19</td>\n",
       "      <td>Luka Doncic</td>\n",
       "      <td>DAL</td>\n",
       "      <td>Minnesota Timberwolves</td>\n",
       "      <td>0</td>\n",
       "      <td>1</td>\n",
       "      <td>36</td>\n",
       "      <td>26</td>\n",
       "      <td>8</td>\n",
       "      <td>16</td>\n",
       "      <td>4</td>\n",
       "      <td>9</td>\n",
       "      <td>6</td>\n",
       "      <td>9</td>\n",
       "      <td>1</td>\n",
       "      <td>5</td>\n",
       "      <td>6</td>\n",
       "      <td>3</td>\n",
       "      <td>2</td>\n",
       "      <td>1</td>\n",
       "      <td>6</td>\n",
       "      <td>3</td>\n",
       "      <td>4</td>\n",
       "      <td>0</td>\n",
       "      <td>0</td>\n",
       "      <td>112.2</td>\n",
       "      <td>70.9</td>\n",
       "      <td>8.3</td>\n",
       "      <td>5.0</td>\n",
       "      <td>15.1</td>\n",
       "      <td>14.8</td>\n",
       "      <td>13.6</td>\n",
       "      <td>48.9</td>\n",
       "      <td>43.00</td>\n",
       "    </tr>\n",
       "    <tr>\n",
       "      <th>2018-10-22</th>\n",
       "      <td>2018-10-22</td>\n",
       "      <td>2018-19</td>\n",
       "      <td>Luka Doncic</td>\n",
       "      <td>DAL</td>\n",
       "      <td>Chicago Bulls</td>\n",
       "      <td>0</td>\n",
       "      <td>1</td>\n",
       "      <td>36</td>\n",
       "      <td>19</td>\n",
       "      <td>7</td>\n",
       "      <td>14</td>\n",
       "      <td>3</td>\n",
       "      <td>8</td>\n",
       "      <td>2</td>\n",
       "      <td>2</td>\n",
       "      <td>0</td>\n",
       "      <td>3</td>\n",
       "      <td>3</td>\n",
       "      <td>6</td>\n",
       "      <td>1</td>\n",
       "      <td>0</td>\n",
       "      <td>3</td>\n",
       "      <td>3</td>\n",
       "      <td>5</td>\n",
       "      <td>0</td>\n",
       "      <td>0</td>\n",
       "      <td>112.8</td>\n",
       "      <td>72.7</td>\n",
       "      <td>7.4</td>\n",
       "      <td>4.3</td>\n",
       "      <td>16.6</td>\n",
       "      <td>13.4</td>\n",
       "      <td>13.0</td>\n",
       "      <td>49.1</td>\n",
       "      <td>33.75</td>\n",
       "    </tr>\n",
       "    <tr>\n",
       "      <th>2018-10-24</th>\n",
       "      <td>2018-10-24</td>\n",
       "      <td>2018-19</td>\n",
       "      <td>Luka Doncic</td>\n",
       "      <td>DAL</td>\n",
       "      <td>Atlanta Hawks</td>\n",
       "      <td>1</td>\n",
       "      <td>0</td>\n",
       "      <td>34</td>\n",
       "      <td>21</td>\n",
       "      <td>7</td>\n",
       "      <td>18</td>\n",
       "      <td>2</td>\n",
       "      <td>9</td>\n",
       "      <td>5</td>\n",
       "      <td>8</td>\n",
       "      <td>0</td>\n",
       "      <td>9</td>\n",
       "      <td>9</td>\n",
       "      <td>2</td>\n",
       "      <td>1</td>\n",
       "      <td>1</td>\n",
       "      <td>3</td>\n",
       "      <td>2</td>\n",
       "      <td>-12</td>\n",
       "      <td>0</td>\n",
       "      <td>0</td>\n",
       "      <td>113.1</td>\n",
       "      <td>71.8</td>\n",
       "      <td>8.2</td>\n",
       "      <td>5.1</td>\n",
       "      <td>21.1</td>\n",
       "      <td>14.6</td>\n",
       "      <td>16.5</td>\n",
       "      <td>49.3</td>\n",
       "      <td>38.75</td>\n",
       "    </tr>\n",
       "    <tr>\n",
       "      <th>2018-10-26</th>\n",
       "      <td>2018-10-26</td>\n",
       "      <td>2018-19</td>\n",
       "      <td>Luka Doncic</td>\n",
       "      <td>DAL</td>\n",
       "      <td>Toronto Raptors</td>\n",
       "      <td>1</td>\n",
       "      <td>0</td>\n",
       "      <td>35</td>\n",
       "      <td>22</td>\n",
       "      <td>7</td>\n",
       "      <td>14</td>\n",
       "      <td>4</td>\n",
       "      <td>6</td>\n",
       "      <td>4</td>\n",
       "      <td>4</td>\n",
       "      <td>1</td>\n",
       "      <td>4</td>\n",
       "      <td>5</td>\n",
       "      <td>4</td>\n",
       "      <td>0</td>\n",
       "      <td>0</td>\n",
       "      <td>3</td>\n",
       "      <td>1</td>\n",
       "      <td>0</td>\n",
       "      <td>0</td>\n",
       "      <td>0</td>\n",
       "      <td>106.8</td>\n",
       "      <td>72.6</td>\n",
       "      <td>8.3</td>\n",
       "      <td>5.3</td>\n",
       "      <td>15.9</td>\n",
       "      <td>12.9</td>\n",
       "      <td>13.5</td>\n",
       "      <td>47.5</td>\n",
       "      <td>34.75</td>\n",
       "    </tr>\n",
       "  </tbody>\n",
       "</table>\n",
       "</div>"
      ],
      "text/plain": [
       "                  Date   Season  ... OPP_PTS_PAINT DK_SCORE\n",
       "Date                             ...                       \n",
       "2018-10-17  2018-10-17  2018-19  ...          53.0    24.00\n",
       "2018-10-20  2018-10-20  2018-19  ...          48.9    43.00\n",
       "2018-10-22  2018-10-22  2018-19  ...          49.1    33.75\n",
       "2018-10-24  2018-10-24  2018-19  ...          49.3    38.75\n",
       "2018-10-26  2018-10-26  2018-19  ...          47.5    34.75\n",
       "\n",
       "[5 rows x 35 columns]"
      ]
     },
     "execution_count": 133,
     "metadata": {},
     "output_type": "execute_result"
    }
   ],
   "source": [
    "df = df[df['Player'] == 'Luka Doncic']\n",
    "df.index = pd.DatetimeIndex(df['Date'])\n",
    "df.sort_index(inplace=True)\n",
    "df.head()"
   ]
  },
  {
   "cell_type": "code",
   "execution_count": 134,
   "metadata": {},
   "outputs": [
    {
     "data": {
      "text/plain": [
       "DK_SCORE              1.000000\n",
       "Pts                   0.842467\n",
       "AST                   0.773601\n",
       "FGM                   0.746456\n",
       "Dub/Dub               0.732067\n",
       "DREB                  0.722994\n",
       "REB                   0.719692\n",
       "FGA                   0.690017\n",
       "Trip/Dub              0.670571\n",
       "Min                   0.565462\n",
       "FTM                   0.549248\n",
       "3PA                   0.543108\n",
       "FTA                   0.504744\n",
       "3PM                   0.431378\n",
       "+/-                   0.429799\n",
       "PF                    0.312564\n",
       "OREB                  0.270135\n",
       "W/L                   0.261109\n",
       "TOV                   0.222288\n",
       "OPP_DEF_RTG           0.174172\n",
       "STL                   0.094599\n",
       "OPP_PTS_off_TOV       0.067184\n",
       "BLK                   0.041744\n",
       "OPP_DREB%             0.039039\n",
       "OPP_PTS_FB            0.033325\n",
       "OPP_PTS_PAINT         0.013184\n",
       "OPP_PTS_2nd_CHANCE   -0.062600\n",
       "OPP_STL              -0.067893\n",
       "Home/Away            -0.082669\n",
       "OPP_BLK              -0.167358\n",
       "Name: DK_SCORE, dtype: float64"
      ]
     },
     "execution_count": 134,
     "metadata": {},
     "output_type": "execute_result"
    }
   ],
   "source": [
    "df.corr()['DK_SCORE'].sort_values(ascending=False)\n"
   ]
  },
  {
   "cell_type": "code",
   "execution_count": 135,
   "metadata": {},
   "outputs": [
    {
     "data": {
      "text/plain": [
       "Index(['Date', 'Season', 'Player', 'Team', 'Match-up', 'Home/Away', 'W/L',\n",
       "       'Min', 'Pts', 'FGM', 'FGA', '3PM', '3PA', 'FTM', 'FTA', 'OREB', 'DREB',\n",
       "       'REB', 'AST', 'STL', 'BLK', 'TOV', 'PF', '+/-', 'Dub/Dub', 'Trip/Dub',\n",
       "       'OPP_DEF_RTG', 'OPP_DREB%', 'OPP_STL', 'OPP_BLK', 'OPP_PTS_off_TOV',\n",
       "       'OPP_PTS_2nd_CHANCE', 'OPP_PTS_FB', 'OPP_PTS_PAINT', 'DK_SCORE'],\n",
       "      dtype='object')"
      ]
     },
     "execution_count": 135,
     "metadata": {},
     "output_type": "execute_result"
    }
   ],
   "source": [
    "df.columns"
   ]
  },
  {
   "cell_type": "code",
   "execution_count": 136,
   "metadata": {},
   "outputs": [],
   "source": [
    "X = df[['W/L','Home/Away','OPP_DEF_RTG', 'OPP_DREB%', 'OPP_STL', 'OPP_BLK', 'OPP_PTS_off_TOV',\n",
    "       'OPP_PTS_2nd_CHANCE', 'OPP_PTS_FB', 'OPP_PTS_PAINT']]\n",
    "\n",
    "y = df['DK_SCORE']"
   ]
  },
  {
   "cell_type": "code",
   "execution_count": 137,
   "metadata": {},
   "outputs": [],
   "source": [
    "X_train, X_test, y_train, y_test = train_test_split(X,y, random_state = 42,shuffle=False)"
   ]
  },
  {
   "cell_type": "code",
   "execution_count": 138,
   "metadata": {},
   "outputs": [
    {
     "data": {
      "text/plain": [
       "LinearRegression()"
      ]
     },
     "execution_count": 138,
     "metadata": {},
     "output_type": "execute_result"
    }
   ],
   "source": [
    "lr = LinearRegression()\n",
    "\n",
    "lr.fit(X_train, y_train)"
   ]
  },
  {
   "cell_type": "code",
   "execution_count": 139,
   "metadata": {},
   "outputs": [
    {
     "data": {
      "text/plain": [
       "0.15460138218280883"
      ]
     },
     "execution_count": 139,
     "metadata": {},
     "output_type": "execute_result"
    }
   ],
   "source": [
    "lr.score(X_train,y_train)"
   ]
  },
  {
   "cell_type": "code",
   "execution_count": 140,
   "metadata": {},
   "outputs": [
    {
     "data": {
      "text/plain": [
       "-0.402330327412739"
      ]
     },
     "execution_count": 140,
     "metadata": {},
     "output_type": "execute_result"
    }
   ],
   "source": [
    "lr.score(X_test,y_test)"
   ]
  },
  {
   "cell_type": "code",
   "execution_count": null,
   "metadata": {},
   "outputs": [],
   "source": []
  }
 ],
 "metadata": {
  "kernelspec": {
   "display_name": "Python [conda env:dsi] *",
   "language": "python",
   "name": "conda-env-dsi-py"
  },
  "language_info": {
   "codemirror_mode": {
    "name": "ipython",
    "version": 3
   },
   "file_extension": ".py",
   "mimetype": "text/x-python",
   "name": "python",
   "nbconvert_exporter": "python",
   "pygments_lexer": "ipython3",
   "version": "3.7.9"
  }
 },
 "nbformat": 4,
 "nbformat_minor": 4
}
